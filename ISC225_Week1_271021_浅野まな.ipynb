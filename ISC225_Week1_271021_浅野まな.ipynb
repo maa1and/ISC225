{
  "nbformat": 4,
  "nbformat_minor": 0,
  "metadata": {
    "colab": {
      "provenance": [],
      "authorship_tag": "ABX9TyOacmea2Y0l+TRhXUJO2v3l",
      "include_colab_link": true
    },
    "kernelspec": {
      "name": "python3",
      "display_name": "Python 3"
    },
    "language_info": {
      "name": "python"
    }
  },
  "cells": [
    {
      "cell_type": "markdown",
      "metadata": {
        "id": "view-in-github",
        "colab_type": "text"
      },
      "source": [
        "<a href=\"https://colab.research.google.com/github/maa1and/ISC225/blob/main/ISC225_Week1_271021_%E6%B5%85%E9%87%8E%E3%81%BE%E3%81%AA.ipynb\" target=\"_parent\"><img src=\"https://colab.research.google.com/assets/colab-badge.svg\" alt=\"Open In Colab\"/></a>"
      ]
    },
    {
      "cell_type": "markdown",
      "source": [
        "Week1 データサイエンス概念レポート\n",
        "ID: 271021 Name: Mana Asano"
      ],
      "metadata": {
        "id": "k6jmbzhdJzqH"
      }
    },
    {
      "cell_type": "markdown",
      "source": [
        "EX1-1"
      ],
      "metadata": {
        "id": "iKgRCTSbOZkq"
      }
    },
    {
      "cell_type": "code",
      "execution_count": null,
      "metadata": {
        "id": "HoKV7MluIZ4S",
        "colab": {
          "base_uri": "https://localhost:8080/",
          "height": 685
        },
        "outputId": "36511d33-1ca3-408e-f49a-bd6779dd1a4d"
      },
      "outputs": [
        {
          "output_type": "stream",
          "name": "stdout",
          "text": [
            "1 [[1]\n",
            " [1]\n",
            " [0]\n",
            " [1]\n",
            " [1]\n",
            " [1]\n",
            " [1]\n",
            " [2]]\n",
            "2 [0.75 1.25]\n",
            "3 [1.  0.5 1.  1.5]\n",
            "4 [[3 4]\n",
            " [4 7]] (2, 2)\n",
            "5 [0.52786405 9.47213595] [[-0.85065081 -0.52573111]\n",
            " [ 0.52573111 -0.85065081]]\n",
            "7 [ 0.6 -0.2] [ 0.6 -0.2]\n",
            "[[2 1 2 3]\n",
            " [1 1 1 2]\n",
            " [2 1 2 3]\n",
            " [3 2 3 5]] (4, 4)\n"
          ]
        },
        {
          "output_type": "error",
          "ename": "LinAlgError",
          "evalue": "Singular matrix",
          "traceback": [
            "\u001b[0;31m---------------------------------------------------------------------------\u001b[0m",
            "\u001b[0;31mLinAlgError\u001b[0m                               Traceback (most recent call last)",
            "\u001b[0;32m<ipython-input-23-966e1ef24aef>\u001b[0m in \u001b[0;36m<cell line: 30>\u001b[0;34m()\u001b[0m\n\u001b[1;32m     28\u001b[0m \u001b[0;34m\u001b[0m\u001b[0m\n\u001b[1;32m     29\u001b[0m \u001b[0md2\u001b[0m \u001b[0;34m=\u001b[0m \u001b[0mnp\u001b[0m\u001b[0;34m.\u001b[0m\u001b[0marray\u001b[0m\u001b[0;34m(\u001b[0m\u001b[0;34m[\u001b[0m\u001b[0;36m1\u001b[0m\u001b[0;34m,\u001b[0m\u001b[0;36m1\u001b[0m\u001b[0;34m,\u001b[0m\u001b[0;36m1\u001b[0m\u001b[0;34m,\u001b[0m\u001b[0;36m1\u001b[0m\u001b[0;34m]\u001b[0m\u001b[0;34m)\u001b[0m\u001b[0;34m\u001b[0m\u001b[0;34m\u001b[0m\u001b[0m\n\u001b[0;32m---> 30\u001b[0;31m \u001b[0mx3\u001b[0m \u001b[0;34m=\u001b[0m \u001b[0mnp\u001b[0m\u001b[0;34m.\u001b[0m\u001b[0mlinalg\u001b[0m\u001b[0;34m.\u001b[0m\u001b[0msolve\u001b[0m\u001b[0;34m(\u001b[0m\u001b[0mC\u001b[0m\u001b[0;34m,\u001b[0m \u001b[0md2\u001b[0m\u001b[0;34m)\u001b[0m \u001b[0;31m#行列が特異なため、エラー\u001b[0m\u001b[0;34m\u001b[0m\u001b[0;34m\u001b[0m\u001b[0m\n\u001b[0m",
            "\u001b[0;32m/usr/local/lib/python3.10/dist-packages/numpy/linalg/linalg.py\u001b[0m in \u001b[0;36msolve\u001b[0;34m(a, b)\u001b[0m\n\u001b[1;32m    407\u001b[0m     \u001b[0msignature\u001b[0m \u001b[0;34m=\u001b[0m \u001b[0;34m'DD->D'\u001b[0m \u001b[0;32mif\u001b[0m \u001b[0misComplexType\u001b[0m\u001b[0;34m(\u001b[0m\u001b[0mt\u001b[0m\u001b[0;34m)\u001b[0m \u001b[0;32melse\u001b[0m \u001b[0;34m'dd->d'\u001b[0m\u001b[0;34m\u001b[0m\u001b[0;34m\u001b[0m\u001b[0m\n\u001b[1;32m    408\u001b[0m     \u001b[0mextobj\u001b[0m \u001b[0;34m=\u001b[0m \u001b[0mget_linalg_error_extobj\u001b[0m\u001b[0;34m(\u001b[0m\u001b[0m_raise_linalgerror_singular\u001b[0m\u001b[0;34m)\u001b[0m\u001b[0;34m\u001b[0m\u001b[0;34m\u001b[0m\u001b[0m\n\u001b[0;32m--> 409\u001b[0;31m     \u001b[0mr\u001b[0m \u001b[0;34m=\u001b[0m \u001b[0mgufunc\u001b[0m\u001b[0;34m(\u001b[0m\u001b[0ma\u001b[0m\u001b[0;34m,\u001b[0m \u001b[0mb\u001b[0m\u001b[0;34m,\u001b[0m \u001b[0msignature\u001b[0m\u001b[0;34m=\u001b[0m\u001b[0msignature\u001b[0m\u001b[0;34m,\u001b[0m \u001b[0mextobj\u001b[0m\u001b[0;34m=\u001b[0m\u001b[0mextobj\u001b[0m\u001b[0;34m)\u001b[0m\u001b[0;34m\u001b[0m\u001b[0;34m\u001b[0m\u001b[0m\n\u001b[0m\u001b[1;32m    410\u001b[0m \u001b[0;34m\u001b[0m\u001b[0m\n\u001b[1;32m    411\u001b[0m     \u001b[0;32mreturn\u001b[0m \u001b[0mwrap\u001b[0m\u001b[0;34m(\u001b[0m\u001b[0mr\u001b[0m\u001b[0;34m.\u001b[0m\u001b[0mastype\u001b[0m\u001b[0;34m(\u001b[0m\u001b[0mresult_t\u001b[0m\u001b[0;34m,\u001b[0m \u001b[0mcopy\u001b[0m\u001b[0;34m=\u001b[0m\u001b[0;32mFalse\u001b[0m\u001b[0;34m)\u001b[0m\u001b[0;34m)\u001b[0m\u001b[0;34m\u001b[0m\u001b[0;34m\u001b[0m\u001b[0m\n",
            "\u001b[0;32m/usr/local/lib/python3.10/dist-packages/numpy/linalg/linalg.py\u001b[0m in \u001b[0;36m_raise_linalgerror_singular\u001b[0;34m(err, flag)\u001b[0m\n\u001b[1;32m    110\u001b[0m \u001b[0;34m\u001b[0m\u001b[0m\n\u001b[1;32m    111\u001b[0m \u001b[0;32mdef\u001b[0m \u001b[0m_raise_linalgerror_singular\u001b[0m\u001b[0;34m(\u001b[0m\u001b[0merr\u001b[0m\u001b[0;34m,\u001b[0m \u001b[0mflag\u001b[0m\u001b[0;34m)\u001b[0m\u001b[0;34m:\u001b[0m\u001b[0;34m\u001b[0m\u001b[0;34m\u001b[0m\u001b[0m\n\u001b[0;32m--> 112\u001b[0;31m     \u001b[0;32mraise\u001b[0m \u001b[0mLinAlgError\u001b[0m\u001b[0;34m(\u001b[0m\u001b[0;34m\"Singular matrix\"\u001b[0m\u001b[0;34m)\u001b[0m\u001b[0;34m\u001b[0m\u001b[0;34m\u001b[0m\u001b[0m\n\u001b[0m\u001b[1;32m    113\u001b[0m \u001b[0;34m\u001b[0m\u001b[0m\n\u001b[1;32m    114\u001b[0m \u001b[0;32mdef\u001b[0m \u001b[0m_raise_linalgerror_nonposdef\u001b[0m\u001b[0;34m(\u001b[0m\u001b[0merr\u001b[0m\u001b[0;34m,\u001b[0m \u001b[0mflag\u001b[0m\u001b[0;34m)\u001b[0m\u001b[0;34m:\u001b[0m\u001b[0;34m\u001b[0m\u001b[0;34m\u001b[0m\u001b[0m\n",
            "\u001b[0;31mLinAlgError\u001b[0m: Singular matrix"
          ]
        }
      ],
      "source": [
        "import numpy as np\n",
        "A = np.array([[1, 1], [0, 1], [1, 1], [1, 2]])\n",
        "\n",
        "A_8x1 = A.reshape(8, 1) #Aを8x1行列に変換\n",
        "print(\"1\", A_8x1)\n",
        "\n",
        "column_mean = np.mean(A, axis=0) #Aの列方向の平均ベクトル\n",
        "print(\"2\", column_mean)\n",
        "\n",
        "row_mean = np.mean(A, axis=1) #Aの行方向の平均ベクトル\n",
        "print(\"3\", row_mean)\n",
        "\n",
        "A_T = A.T #Aの転置行列\n",
        "B = np.dot(A_T, A) #Aの積の行列\n",
        "print(\"4\", B, B.shape) #BをBのサイズとともに出力\n",
        "\n",
        "bvalue, bvec = np.linalg.eig(B)\n",
        "print(\"5\", bvalue, bvec)\n",
        "\n",
        "d = np.array([1,1])\n",
        "#連立方程式Bx = dの解を以下の2通りで求める\n",
        "x1 = np.linalg.solve(B, d) #np.linalg.solveで求める\n",
        "x2 = np.dot(np.linalg.inv(B), d) #np.linalg.invで求める\n",
        "print(\"7\", x1, x2)\n",
        "\n",
        "C = np.dot(A, A_T) #AとAの転置行列の積の行列\n",
        "print(C, C.shape) #CをCのサイズとともに出力\n",
        "\n",
        "d2 = np.array([1,1,1,1])\n",
        "x3 = np.linalg.solve(C, d2) #行列が特異なため、エラー"
      ]
    },
    {
      "cell_type": "markdown",
      "source": [
        "EX1-2\n",
        "1,2,...,10000のベクトルvを生成し、そのベクトルを10000x1行列と\n",
        "1x10000行列に変換して、その二つの行列の積を計算"
      ],
      "metadata": {
        "id": "t3-1mL24NM6n"
      }
    },
    {
      "cell_type": "code",
      "source": [
        "%%time\n",
        "v = np.arange(1, 10001) #1~10000までのベクトルを生成\n",
        "v1 = v.reshape(10000, 1)\n",
        "v2 = v.reshape(1, 10000)\n",
        "A = np.dot(v1, v2) #形を変換したベクトルの積\n",
        "print(A[:10, :10])"
      ],
      "metadata": {
        "colab": {
          "base_uri": "https://localhost:8080/"
        },
        "id": "_kytIietNLF_",
        "outputId": "d6ac6e95-69f0-464e-af2c-603cad699ac5"
      },
      "execution_count": null,
      "outputs": [
        {
          "output_type": "stream",
          "name": "stdout",
          "text": [
            "[[  1   2   3   4   5   6   7   8   9  10]\n",
            " [  2   4   6   8  10  12  14  16  18  20]\n",
            " [  3   6   9  12  15  18  21  24  27  30]\n",
            " [  4   8  12  16  20  24  28  32  36  40]\n",
            " [  5  10  15  20  25  30  35  40  45  50]\n",
            " [  6  12  18  24  30  36  42  48  54  60]\n",
            " [  7  14  21  28  35  42  49  56  63  70]\n",
            " [  8  16  24  32  40  48  56  64  72  80]\n",
            " [  9  18  27  36  45  54  63  72  81  90]\n",
            " [ 10  20  30  40  50  60  70  80  90 100]]\n",
            "CPU times: user 654 ms, sys: 651 ms, total: 1.31 s\n",
            "Wall time: 1.3 s\n"
          ]
        }
      ]
    },
    {
      "cell_type": "code",
      "source": [],
      "metadata": {
        "id": "hvnue3TNXHns"
      },
      "execution_count": null,
      "outputs": []
    },
    {
      "cell_type": "markdown",
      "source": [
        "10000x10000のゼロ行列Aを生成し、ループ変数i,jを1から10000まで動かす二重forループをつくって、その中でA[i-1,j-1]の値を計算"
      ],
      "metadata": {
        "id": "ypd4BngCVogN"
      }
    },
    {
      "cell_type": "code",
      "source": [
        "%%time\n",
        "A = np.zeros((10000, 10000), dtype = int) #10000 * 10000のゼロ行列を生成\n",
        "for i in range(10000): #i, jを1~10000まで操作する二重ループ\n",
        "  for j in range(10000):\n",
        "    A[i, j] = (i + 1) * (j + 1)\n",
        "print(A[:10, :10])"
      ],
      "metadata": {
        "colab": {
          "base_uri": "https://localhost:8080/"
        },
        "id": "Lhsk6BueOhjF",
        "outputId": "491e1502-eb49-4ee6-9482-2df5b2217782"
      },
      "execution_count": null,
      "outputs": [
        {
          "output_type": "stream",
          "name": "stdout",
          "text": [
            "[[  1   2   3   4   5   6   7   8   9  10]\n",
            " [  2   4   6   8  10  12  14  16  18  20]\n",
            " [  3   6   9  12  15  18  21  24  27  30]\n",
            " [  4   8  12  16  20  24  28  32  36  40]\n",
            " [  5  10  15  20  25  30  35  40  45  50]\n",
            " [  6  12  18  24  30  36  42  48  54  60]\n",
            " [  7  14  21  28  35  42  49  56  63  70]\n",
            " [  8  16  24  32  40  48  56  64  72  80]\n",
            " [  9  18  27  36  45  54  63  72  81  90]\n",
            " [ 10  20  30  40  50  60  70  80  90 100]]\n",
            "CPU times: user 40.4 s, sys: 1.49 s, total: 41.9 s\n",
            "Wall time: 45.6 s\n"
          ]
        }
      ]
    },
    {
      "cell_type": "markdown",
      "source": [
        "最初に空リストA=[]を生成し、ループ変数iを1から10000まで動かす\n",
        "最後にAをnumpy.array()でnpの行列に変換"
      ],
      "metadata": {
        "id": "YFcYEseXVuvq"
      }
    },
    {
      "cell_type": "code",
      "source": [
        "%%time\n",
        "A = [] #空のリストを作成\n",
        "for i in range(1, 10001):\n",
        "  veclist = []\n",
        "  for j in range(1, 10001):\n",
        "    veclist.append(i * j)\n",
        "  A.append(veclist)\n",
        "A = np.array(A)\n",
        "print(A[:10, :10])"
      ],
      "metadata": {
        "colab": {
          "base_uri": "https://localhost:8080/"
        },
        "id": "djYGQwOjPC7d",
        "outputId": "3d13048f-9d45-4c98-f264-2d7a42ad1430"
      },
      "execution_count": null,
      "outputs": [
        {
          "output_type": "stream",
          "name": "stdout",
          "text": [
            "[[  1   2   3   4   5   6   7   8   9  10]\n",
            " [  2   4   6   8  10  12  14  16  18  20]\n",
            " [  3   6   9  12  15  18  21  24  27  30]\n",
            " [  4   8  12  16  20  24  28  32  36  40]\n",
            " [  5  10  15  20  25  30  35  40  45  50]\n",
            " [  6  12  18  24  30  36  42  48  54  60]\n",
            " [  7  14  21  28  35  42  49  56  63  70]\n",
            " [  8  16  24  32  40  48  56  64  72  80]\n",
            " [  9  18  27  36  45  54  63  72  81  90]\n",
            " [ 10  20  30  40  50  60  70  80  90 100]]\n",
            "CPU times: user 28.7 s, sys: 5.32 s, total: 34 s\n",
            "Wall time: 35.4 s\n"
          ]
        }
      ]
    },
    {
      "cell_type": "markdown",
      "source": [
        "EX1-3\n",
        "𝑓(𝑥) = 𝑥 ∗∗ 2 − 2 ∗ 𝑥 + 1"
      ],
      "metadata": {
        "id": "oj92QLwoV2FH"
      }
    },
    {
      "cell_type": "code",
      "source": [
        "import matplotlib.pyplot as plt\n",
        "\n",
        "def f(x): #関数を定義\n",
        "  return x ** 2 - 2 * x + 1\n",
        "\n",
        "xlist = np.arange(-2, 2, 0.1)\n",
        "ylist = [f(x) for x in xlist] #関数にxlistを代入した値をそれぞれylistに格納\n",
        "plt.plot(xlist, ylist) #グラフを描画\n",
        "plt.show()"
      ],
      "metadata": {
        "colab": {
          "base_uri": "https://localhost:8080/",
          "height": 430
        },
        "id": "K5W8MwAlP4Pd",
        "outputId": "b73b4aff-5663-4ddd-c334-e4ebc636465d"
      },
      "execution_count": null,
      "outputs": [
        {
          "output_type": "display_data",
          "data": {
            "text/plain": [
              "<Figure size 640x480 with 1 Axes>"
            ],
            "image/png": "[encoded data removed]"
          },
          "metadata": {}
        }
      ]
    },
    {
      "cell_type": "markdown",
      "source": [
        "EX1-4"
      ],
      "metadata": {
        "id": "662fVPJxQ_-S"
      }
    },
    {
      "cell_type": "code",
      "source": [
        "min_index = np.argmin(ylist)\n",
        "xmin = xlist[min_index]\n",
        "ymin = ylist[min_index]\n",
        "print(\"最小値をとるリストのインデックス:\", min_index, \"その時の値:\", xmin, \"最小値:\", ymin)"
      ],
      "metadata": {
        "colab": {
          "base_uri": "https://localhost:8080/"
        },
        "id": "7QZ7PRzzRBGj",
        "outputId": "18ece404-0b85-4198-a68c-bd497867efb1"
      },
      "execution_count": null,
      "outputs": [
        {
          "output_type": "stream",
          "name": "stdout",
          "text": [
            "最小値をとるリストのインデックス: 30 その時の値: 1.0000000000000027 最小値: 0.0\n"
          ]
        }
      ]
    }
  ]
}